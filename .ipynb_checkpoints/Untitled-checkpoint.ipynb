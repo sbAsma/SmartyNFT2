{
 "cells": [
  {
   "cell_type": "code",
   "execution_count": 15,
   "id": "2f35ff1c",
   "metadata": {},
   "outputs": [],
   "source": [
    "import urllib.request\n",
    "import pandas as pd\n",
    "import numpy as np\n",
    "import time\n"
   ]
  },
  {
   "cell_type": "code",
   "execution_count": 41,
   "id": "e33dfc8a",
   "metadata": {},
   "outputs": [],
   "source": [
    "i_indexes = list(range(300,1000))\n",
    "np.random.shuffle(i_indexes)"
   ]
  },
  {
   "cell_type": "code",
   "execution_count": null,
   "id": "67229be9",
   "metadata": {
    "scrolled": true
   },
   "outputs": [],
   "source": [
    "new_data = pd.read_excel(\"C:/Users/Asma/Documents/Junction 2022/BNB/dataset/nft_sales.xlsx\", engine='openpyxl')\n",
    "\n",
    "for i in i_indexes[-11:]:\n",
    "    print(i)\n",
    "    imgURL = new_data['asset_img_url'][i]\n",
    "    urllib.request.urlretrieve(imgURL, \"C:/Users/Asma/Documents/Junction 2022/BNB/dataset/nft images2/\" + str(i) + '.jpg' )\n",
    "#     time.sleep(5)"
   ]
  },
  {
   "cell_type": "code",
   "execution_count": 23,
   "id": "153d9b84",
   "metadata": {},
   "outputs": [
    {
     "data": {
      "text/plain": [
       "269"
      ]
     },
     "execution_count": 23,
     "metadata": {},
     "output_type": "execute_result"
    }
   ],
   "source": [
    "# forbidden indexes 269 and 193"
   ]
  }
 ],
 "metadata": {
  "kernelspec": {
   "display_name": "Python 3.7 (tensorflow)",
   "language": "python",
   "name": "tensorflow"
  },
  "language_info": {
   "codemirror_mode": {
    "name": "ipython",
    "version": 3
   },
   "file_extension": ".py",
   "mimetype": "text/x-python",
   "name": "python",
   "nbconvert_exporter": "python",
   "pygments_lexer": "ipython3",
   "version": "3.7.6"
  }
 },
 "nbformat": 4,
 "nbformat_minor": 5
}
