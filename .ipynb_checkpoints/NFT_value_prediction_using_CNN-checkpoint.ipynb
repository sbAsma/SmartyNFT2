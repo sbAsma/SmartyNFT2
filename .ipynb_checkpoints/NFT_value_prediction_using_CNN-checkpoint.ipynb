{
 "cells": [
  {
   "cell_type": "markdown",
   "id": "09d1d56c",
   "metadata": {},
   "source": [
    "## Libraries Import"
   ]
  },
  {
   "cell_type": "code",
   "execution_count": 1,
   "id": "fceb3e9e",
   "metadata": {},
   "outputs": [],
   "source": [
    "## Imports\n",
    "import os \n",
    "import time\n",
    "\n",
    "import numpy as np\n",
    "import pandas as pd\n",
    "\n",
    "from sklearn.model_selection import train_test_split\n",
    "import tensorflow as tf\n",
    "from tensorflow.keras.models import Sequential\n",
    "\n",
    "from tensorflow.keras.layers import Dense, Input, concatenate, Conv2D, MaxPooling2D, Flatten\n",
    "from tensorflow.keras.optimizers import Adam\n",
    "\n",
    "from keras.utils import np_utils\n",
    "\n",
    "import scipy\n",
    "import cv2\n",
    "import matplotlib.pyplot as plt\n",
    "\n",
    "from PIL import Image"
   ]
  },
  {
   "cell_type": "markdown",
   "id": "3dff1dde",
   "metadata": {},
   "source": [
    "# Dataset"
   ]
  },
  {
   "cell_type": "markdown",
   "id": "f15086c1",
   "metadata": {},
   "source": [
    "## Images"
   ]
  },
  {
   "cell_type": "code",
   "execution_count": 2,
   "id": "d8ae8ac9",
   "metadata": {
    "scrolled": true
   },
   "outputs": [],
   "source": [
    "all_images = []\n",
    "all_indexes = []\n",
    "folder = \"dataset/nft images2/\"\n",
    "for filename in os.listdir(folder):\n",
    "    img = cv2.imread(os.path.join(folder,filename))\n",
    "    if img is not None:\n",
    "        all_indexes.append(filename.strip(\".jpg\"))\n",
    "        im_rgb = cv2.cvtColor(img, cv2.COLOR_BGR2RGB)\n",
    "        res = cv2.resize(im_rgb, dsize=(512, 512), interpolation=cv2.INTER_CUBIC)\n",
    "        all_images.append(res)\n",
    "        \n",
    "all_indexes = [int(x) for x in all_indexes]"
   ]
  },
  {
   "cell_type": "markdown",
   "id": "4ad4f1ae",
   "metadata": {},
   "source": [
    "## Labels"
   ]
  },
  {
   "cell_type": "code",
   "execution_count": 3,
   "id": "02695c64",
   "metadata": {},
   "outputs": [],
   "source": [
    "nft_data = pd.read_excel(\"dataset/nft_sales.xlsx\", engine='openpyxl')\n",
    "event_total_price = nft_data['event_total_price'][all_indexes]\n",
    "event_total_price = np.array(event_total_price)\n",
    "\n",
    "labels = []\n",
    "for price in event_total_price:\n",
    "    if price >= 0.5:\n",
    "        labels.append(1)\n",
    "    elif price <= 0.1:\n",
    "        labels.append(3)\n",
    "    else:\n",
    "        labels.append(2)"
   ]
  },
  {
   "cell_type": "markdown",
   "id": "d0bee9f4",
   "metadata": {},
   "source": [
    "# Split, normalize and one hot encode data"
   ]
  },
  {
   "cell_type": "code",
   "execution_count": 4,
   "id": "a7ac13f2",
   "metadata": {},
   "outputs": [],
   "source": [
    "n_classes = 3\n",
    "class_labels = list(range(n_classes))\n",
    "\n",
    "def one_hot_encoder(y):\n",
    "    nb_classes = len(class_labels)\n",
    "    nb_samples = len(y)\n",
    "    one_hot_y = np.zeros((nb_samples, nb_classes), dtype=bool)\n",
    "    for i in range(0,nb_samples):\n",
    "        j = int(y[i]-1)\n",
    "        one_hot_y[i, j] = 1\n",
    "        \n",
    "    return one_hot_y\n",
    "\n",
    "def one_hot_decoder(one_hot_y):\n",
    "    nb_samples, nb_classes = one_hot_y.shape\n",
    "    y = np.zeros((nb_samples))\n",
    "    for i in range(0,nb_samples):\n",
    "        y[i] = np.where(one_hot_y[i]==1)[0][0] +1\n",
    "    return y\n",
    "\n",
    "def normalize_prediction(y_oh_pred):\n",
    "    nb_samples, nb_classes = y_oh_pred.shape\n",
    "    y_oh_pred_norm = np.zeros((nb_samples, nb_classes))\n",
    "    for i in range(0,nb_samples):\n",
    "        max_pred = np.max(y_oh_pred[i,:])\n",
    "        j = np.where(y_oh_pred[i]==max_pred)[0][0]\n",
    "        y_oh_pred_norm[i, j] = 1\n",
    "    return y_oh_pred_norm\n",
    "\n",
    "def get_acc(y_ts, y_pred):\n",
    "    confusion_matrix = np.zeros((len(class_labels), len(class_labels)))\n",
    "    nb_samples = len(y_ts)\n",
    "    \n",
    "    for i in range(0, nb_samples) : \n",
    "        actual_class = int(y_ts[i]) - 1\n",
    "        predicted_class = int(y_pred[i]) - 1\n",
    "\n",
    "        confusion_matrix[ predicted_class , actual_class ] = confusion_matrix[ predicted_class , actual_class ] + 1\n",
    "        \n",
    "    acc_rep = {}\n",
    "    oa_acc = 0\n",
    "    aa_acc = 0\n",
    "    acc_rep[\"OA\"]= 0\n",
    "    acc_rep[\"AA\"]= 0\n",
    "    for class_ in range(0, len(class_labels)) :\n",
    "        if confusion_matrix[class_, class_] == 0:\n",
    "            acc = 0\n",
    "        else:\n",
    "            acc = confusion_matrix[class_,class_]/np.sum(confusion_matrix[:,class_]) * 100\n",
    "\n",
    "        acc_rep[\"class \" + str(class_ + 1)] = acc\n",
    "        aa_acc+=acc\n",
    "        oa_acc+=confusion_matrix[class_,class_]\n",
    "    acc_rep[\"OA\"]= oa_acc/np.sum(confusion_matrix[:,:])*100\n",
    "    acc_rep[\"AA\"]= aa_acc/len(class_labels)\n",
    "    \n",
    "    return acc_rep"
   ]
  },
  {
   "cell_type": "code",
   "execution_count": 5,
   "id": "843a18de",
   "metadata": {},
   "outputs": [],
   "source": [
    "X_train, X_test, y_train, y_test = train_test_split(all_images, labels, test_size=0.33, random_state=42)\n",
    "\n",
    "X_train = np.array(X_train)\n",
    "X_test = np.array(X_test)\n",
    "y_train = np.array(y_train)\n",
    "y_test = np.array(y_test)\n",
    "\n",
    "X_train = X_train/255.0\n",
    "X_test = X_test/255.0"
   ]
  },
  {
   "cell_type": "code",
   "execution_count": 6,
   "id": "543a7f23",
   "metadata": {},
   "outputs": [],
   "source": [
    "y_train_OH = one_hot_encoder(y_train)\n",
    "y_test_OH = one_hot_encoder(y_test)"
   ]
  },
  {
   "cell_type": "markdown",
   "id": "0019026f",
   "metadata": {},
   "source": [
    "# Building the CNN"
   ]
  },
  {
   "cell_type": "code",
   "execution_count": 9,
   "id": "9c90ccbd",
   "metadata": {},
   "outputs": [
    {
     "name": "stdout",
     "output_type": "stream",
     "text": [
      "Model: \"sequential_1\"\n",
      "_________________________________________________________________\n",
      "Layer (type)                 Output Shape              Param #   \n",
      "=================================================================\n",
      "conv2d_1 (Conv2D)            (None, 510, 510, 8)       224       \n",
      "_________________________________________________________________\n",
      "max_pooling2d_1 (MaxPooling2 (None, 255, 255, 8)       0         \n",
      "_________________________________________________________________\n",
      "flatten_1 (Flatten)          (None, 520200)            0         \n",
      "_________________________________________________________________\n",
      "dense_2 (Dense)              (None, 100)               52020100  \n",
      "_________________________________________________________________\n",
      "dense_3 (Dense)              (None, 3)                 303       \n",
      "=================================================================\n",
      "Total params: 52,020,627\n",
      "Trainable params: 52,020,627\n",
      "Non-trainable params: 0\n",
      "_________________________________________________________________\n"
     ]
    }
   ],
   "source": [
    "N_input = X_train[0].shape\n",
    "N_output =  len(class_labels)\n",
    "\n",
    "# first_input = \n",
    "# first_conv_1 = (first_input)\n",
    "# first_maxpool_1 = MaxPooling2D(2,2)(first_conv_1)\n",
    "# first_conv_2 = Conv2D(16, (3,3), activation='relu')(first_maxpool_1)\n",
    "# first_maxpool_2 = MaxPooling2D(2,2)(first_conv_2)\n",
    "# first_conv_3 = Conv2D(32, (3,3), activation='relu')(first_maxpool_2)\n",
    "# first_maxpool_3 = MaxPooling2D(2,2)(first_conv_3)\n",
    "\n",
    "\n",
    "model = Sequential()\n",
    "model.add(Input(shape=N_input))\n",
    "model.add(Conv2D(8, (3,3), activation='relu'))\n",
    "model.add(MaxPooling2D(2,2))\n",
    "# flatten output of conv\n",
    "model.add(Flatten())\n",
    "# hidden layer\n",
    "model.add(Dense(100, activation='relu'))\n",
    "# output layer\n",
    "model.add(Dense(N_output, activation='softmax'))\n",
    "\n",
    "model.compile(loss='categorical_crossentropy', metrics=['accuracy'], optimizer='adam')\n",
    "\n",
    "model.summary()"
   ]
  },
  {
   "cell_type": "code",
   "execution_count": null,
   "id": "63eaaac2",
   "metadata": {},
   "outputs": [
    {
     "name": "stdout",
     "output_type": "stream",
     "text": [
      "Epoch 1/10\n"
     ]
    }
   ],
   "source": [
    "model.fit(X_train, y_train_OH, batch_size=128, epochs=10)"
   ]
  },
  {
   "cell_type": "code",
   "execution_count": null,
   "id": "a95ac7c4",
   "metadata": {},
   "outputs": [],
   "source": []
  }
 ],
 "metadata": {
  "kernelspec": {
   "display_name": "Python 3.7 (tensorflow)",
   "language": "python",
   "name": "tensorflow"
  },
  "language_info": {
   "codemirror_mode": {
    "name": "ipython",
    "version": 3
   },
   "file_extension": ".py",
   "mimetype": "text/x-python",
   "name": "python",
   "nbconvert_exporter": "python",
   "pygments_lexer": "ipython3",
   "version": "3.7.6"
  }
 },
 "nbformat": 4,
 "nbformat_minor": 5
}
