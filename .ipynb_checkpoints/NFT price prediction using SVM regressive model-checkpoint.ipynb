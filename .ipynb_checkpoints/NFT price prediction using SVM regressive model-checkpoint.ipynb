{
 "cells": [
  {
   "cell_type": "markdown",
   "id": "e2161565",
   "metadata": {},
   "source": [
    "# 1. Importating Data"
   ]
  },
  {
   "cell_type": "code",
   "execution_count": 31,
   "id": "328c3155",
   "metadata": {},
   "outputs": [],
   "source": [
    "# Importing the libraries\n",
    "import numpy as np\n",
    "import matplotlib.pyplot as plt\n",
    "import pandas as pd\n",
    "\n",
    "# Importing the dataset\n",
    "NFTdata = pd.read_csv('dataset/train-data.csv')"
   ]
  },
  {
   "cell_type": "markdown",
   "id": "b9ff40b3",
   "metadata": {},
   "source": [
    "# 2. Splitting Data into train/test"
   ]
  },
  {
   "cell_type": "code",
   "execution_count": 32,
   "id": "6728d1e7",
   "metadata": {},
   "outputs": [
    {
     "name": "stdout",
     "output_type": "stream",
     "text": [
      "(3487, 3)\n",
      "(3487, 1)\n",
      "(1495, 3)\n",
      "(1495, 1)\n"
     ]
    }
   ],
   "source": [
    "# Separate Target Variable and Predictor Variables\n",
    "Predictors=['rarity', 'last_sale_price', 'sale_count']\n",
    "TargetVariable=['predicted_price']\n",
    "\n",
    "X=NFTdata[Predictors].values\n",
    "y=NFTdata[TargetVariable].values\n",
    "\n",
    "from sklearn.model_selection import train_test_split\n",
    "X_train, X_test, y_train, y_test = train_test_split(X, y, test_size=0.3, random_state=42)\n",
    "# Quick sanity check with the shapes of Training and testing datasets\n",
    "print(X_train.shape)\n",
    "print(y_train.shape)\n",
    "print(X_test.shape)\n",
    "print(y_test.shape)"
   ]
  },
  {
   "cell_type": "markdown",
   "id": "8f25a0f6",
   "metadata": {},
   "source": [
    "# 3. Building the SVM model"
   ]
  },
  {
   "cell_type": "code",
   "execution_count": 33,
   "id": "40134a87",
   "metadata": {},
   "outputs": [
    {
     "data": {
      "text/plain": [
       "SVR()"
      ]
     },
     "execution_count": 33,
     "metadata": {},
     "output_type": "execute_result"
    }
   ],
   "source": [
    "# Feature Scaling\n",
    "from sklearn.preprocessing import StandardScaler, MinMaxScaler\n",
    "sc_X = MinMaxScaler()\n",
    "\n",
    "X_train = sc_X.fit_transform(X_train)\n",
    "y_train = np.squeeze(y_train)\n",
    "\n",
    "# Fitting the Support Vector Regression Model to the dataset\n",
    "# Create your support vector regressor here\n",
    "from sklearn.svm import SVR\n",
    "# most important SVR parameter is Kernel type. It can be #linear,polynomial or gaussian SVR. We have a non-linear condition #so we can select polynomial or gaussian but here we select RBF(a #gaussian type) kernel.\n",
    "regressor = SVR(kernel='rbf')\n",
    "regressor.fit(X_train,y_train)"
   ]
  },
  {
   "cell_type": "markdown",
   "id": "027f5693",
   "metadata": {},
   "source": [
    "# 4. Testing the model"
   ]
  },
  {
   "cell_type": "markdown",
   "id": "444da8dd",
   "metadata": {},
   "source": [
    "## 4.1. Accuracy of the model"
   ]
  },
  {
   "cell_type": "code",
   "execution_count": 34,
   "id": "1a1e1fb9",
   "metadata": {},
   "outputs": [
    {
     "name": "stdout",
     "output_type": "stream",
     "text": [
      "The model is:  69.07 % accurate\n"
     ]
    }
   ],
   "source": [
    "#5 Predicting the test data\n",
    "y_test = np.squeeze(y_test)\n",
    "y_pred = regressor.predict(X_test)\n",
    "MAPE = np.mean(100 * (np.abs(y_test-y_pred)/y_test))\n",
    "print(\"The model is: \", \"{:.2f}\".format(100-MAPE), \"% accurate\")"
   ]
  },
  {
   "cell_type": "markdown",
   "id": "f98594a3",
   "metadata": {},
   "source": [
    "## 4.2. Comparison between the actual price and the predicted price"
   ]
  },
  {
   "cell_type": "code",
   "execution_count": 35,
   "id": "2ac5af18",
   "metadata": {},
   "outputs": [
    {
     "data": {
      "text/html": [
       "<div>\n",
       "<style scoped>\n",
       "    .dataframe tbody tr th:only-of-type {\n",
       "        vertical-align: middle;\n",
       "    }\n",
       "\n",
       "    .dataframe tbody tr th {\n",
       "        vertical-align: top;\n",
       "    }\n",
       "\n",
       "    .dataframe thead th {\n",
       "        text-align: right;\n",
       "    }\n",
       "</style>\n",
       "<table border=\"1\" class=\"dataframe\">\n",
       "  <thead>\n",
       "    <tr style=\"text-align: right;\">\n",
       "      <th></th>\n",
       "      <th>rarity</th>\n",
       "      <th>last_sale_price</th>\n",
       "      <th>sale_count</th>\n",
       "      <th>Price</th>\n",
       "      <th>PredictedPrice</th>\n",
       "    </tr>\n",
       "  </thead>\n",
       "  <tbody>\n",
       "    <tr>\n",
       "      <th>0</th>\n",
       "      <td>70440.174315</td>\n",
       "      <td>307.500</td>\n",
       "      <td>155.0</td>\n",
       "      <td>3.096494</td>\n",
       "      <td>3.983419</td>\n",
       "    </tr>\n",
       "    <tr>\n",
       "      <th>1</th>\n",
       "      <td>143333.662261</td>\n",
       "      <td>135.000</td>\n",
       "      <td>23.0</td>\n",
       "      <td>3.299036</td>\n",
       "      <td>3.983419</td>\n",
       "    </tr>\n",
       "    <tr>\n",
       "      <th>2</th>\n",
       "      <td>117105.593253</td>\n",
       "      <td>435.000</td>\n",
       "      <td>89.0</td>\n",
       "      <td>3.437621</td>\n",
       "      <td>3.983419</td>\n",
       "    </tr>\n",
       "    <tr>\n",
       "      <th>3</th>\n",
       "      <td>119227.099097</td>\n",
       "      <td>615.000</td>\n",
       "      <td>133.0</td>\n",
       "      <td>3.398477</td>\n",
       "      <td>3.983419</td>\n",
       "    </tr>\n",
       "    <tr>\n",
       "      <th>4</th>\n",
       "      <td>107923.420077</td>\n",
       "      <td>462.495</td>\n",
       "      <td>287.0</td>\n",
       "      <td>3.602293</td>\n",
       "      <td>3.983419</td>\n",
       "    </tr>\n",
       "  </tbody>\n",
       "</table>\n",
       "</div>"
      ],
      "text/plain": [
       "          rarity  last_sale_price  sale_count     Price  PredictedPrice\n",
       "0   70440.174315          307.500       155.0  3.096494        3.983419\n",
       "1  143333.662261          135.000        23.0  3.299036        3.983419\n",
       "2  117105.593253          435.000        89.0  3.437621        3.983419\n",
       "3  119227.099097          615.000       133.0  3.398477        3.983419\n",
       "4  107923.420077          462.495       287.0  3.602293        3.983419"
      ]
     },
     "execution_count": 35,
     "metadata": {},
     "output_type": "execute_result"
    }
   ],
   "source": [
    "# # Scaling the test data back to original scale\n",
    "Test_Data=sc_X.inverse_transform(X_test)\n",
    "\n",
    "TestingData=pd.DataFrame(data=Test_Data, columns=Predictors)\n",
    "TestingData['Price']=y_test\n",
    "TestingData['PredictedPrice']=y_pred\n",
    "TestingData.head()"
   ]
  },
  {
   "cell_type": "code",
   "execution_count": null,
   "id": "9215be1a",
   "metadata": {},
   "outputs": [],
   "source": []
  }
 ],
 "metadata": {
  "kernelspec": {
   "display_name": "Python 3.7 (tensorflow)",
   "language": "python",
   "name": "tensorflow"
  },
  "language_info": {
   "codemirror_mode": {
    "name": "ipython",
    "version": 3
   },
   "file_extension": ".py",
   "mimetype": "text/x-python",
   "name": "python",
   "nbconvert_exporter": "python",
   "pygments_lexer": "ipython3",
   "version": "3.7.6"
  }
 },
 "nbformat": 4,
 "nbformat_minor": 5
}
